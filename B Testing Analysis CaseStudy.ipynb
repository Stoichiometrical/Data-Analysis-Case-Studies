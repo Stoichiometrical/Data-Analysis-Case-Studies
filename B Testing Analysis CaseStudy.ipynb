{
 "cells": [
  {
   "metadata": {},
   "cell_type": "markdown",
   "source": "# A/B Testing Case Study",
   "id": "2fbd565cc00fc409"
  },
  {
   "metadata": {},
   "cell_type": "markdown",
   "source": "#### The objective of this analysis is to determine which banner ad format is more effective in driving engagement and clicks.",
   "id": "23302365834a47e9"
  },
  {
   "metadata": {
    "ExecuteTime": {
     "end_time": "2024-12-23T11:52:27.630104Z",
     "start_time": "2024-12-23T11:52:27.625151Z"
    }
   },
   "cell_type": "code",
   "source": [
    "#Import relevant libraries\n",
    "import pandas as pd\n",
    "import matplotlib.pyplot as plt\n",
    "import seaborn as sns"
   ],
   "id": "9446f7d443779b39",
   "outputs": [],
   "execution_count": 1
  },
  {
   "metadata": {},
   "cell_type": "markdown",
   "source": "Task 1: Each performance metric is in a separate csv. Write a python script to merge those performance metrics for each channel. The output should be easily readable.",
   "id": "18034ef6e2a21c2b"
  },
  {
   "metadata": {
    "ExecuteTime": {
     "end_time": "2024-12-23T11:52:27.659067Z",
     "start_time": "2024-12-23T11:52:27.630104Z"
    }
   },
   "cell_type": "code",
   "source": [
    "#Load datasets\n",
    "linkedin_clicks = pd.read_csv(\"linkedin-clicks 1.csv\")\n",
    "instagram_clicks = pd.read_csv(\"instagram clicks 1.csv\")\n",
    "twitter_clicks = pd.read_csv(\"linkedin-clicks 1.csv\")\n",
    "\n",
    "linkedin_impressions = pd.read_csv(\"linkedin-impressions 1.csv\")\n",
    "twitter_impressions = pd.read_csv(\"twitter-impressions.csv\")\n",
    "\n"
   ],
   "id": "e7a9e742e27737f4",
   "outputs": [],
   "execution_count": 2
  },
  {
   "metadata": {
    "ExecuteTime": {
     "end_time": "2024-12-23T11:52:27.918215Z",
     "start_time": "2024-12-23T11:52:27.907083Z"
    }
   },
   "cell_type": "code",
   "source": [
    "# Add the \"Channel\" column\n",
    "linkedin_clicks[\"Channel\"] = \"linkedin\"\n",
    "instagram_clicks[\"Channel\"] = \"instagram\"\n",
    "twitter_clicks[\"Channel\"] = \"twitter\"\n",
    "\n",
    "# Add the \"Channel\" column\n",
    "linkedin_impressions[\"Channel\"] = \"linkedin\"\n",
    "twitter_impressions[\"Channel\"] = \"twitter\"\n",
    "\n",
    "# Merge the datasets into one dataframe\n",
    "all_clicks = pd.concat([linkedin_clicks, instagram_clicks, twitter_clicks], ignore_index=True)\n",
    "all_impressions = pd.concat([linkedin_impressions, twitter_impressions], ignore_index=True)"
   ],
   "id": "79134c9a6f578014",
   "outputs": [],
   "execution_count": 3
  },
  {
   "metadata": {
    "ExecuteTime": {
     "end_time": "2024-12-23T11:52:27.955559Z",
     "start_time": "2024-12-23T11:52:27.939149Z"
    }
   },
   "cell_type": "code",
   "source": "all_clicks.head()",
   "id": "c59f9c182442e7ca",
   "outputs": [
    {
     "data": {
      "text/plain": [
       "     Banner Ad Name  Click ID Link/Button Clicked On  \\\n",
       "0  Banner 1 - Short      5859            Unsubscribe   \n",
       "1  Banner 1 - Short      8914            Unsubscribe   \n",
       "2  Banner 1 - Short      2315                Sign Up   \n",
       "3  Banner 1 - Short      6910             Learn More   \n",
       "4   Banner 2 - Long      3075            Unsubscribe   \n",
       "\n",
       "                       Link/Button URL          Datetime       State  \\\n",
       "0            https://example.com/learn  04/07/2024 23:19  California   \n",
       "1            https://example.com/learn  30/07/2024 20:32       Texas   \n",
       "2           https://example.com/signup  12/07/2024 02:21    Illinois   \n",
       "3  https://example.com/hide_banner_add  21/07/2024 23:42    New York   \n",
       "4            https://example.com/learn  12/07/2024 07:54    Illinois   \n",
       "\n",
       "        Gender Income Level   Channel  \n",
       "0       Female         High  linkedin  \n",
       "1         Male         High  linkedin  \n",
       "2         Male         High  linkedin  \n",
       "3         Male          Low  linkedin  \n",
       "4  Undisclosed         High  linkedin  "
      ],
      "text/html": [
       "<div>\n",
       "<style scoped>\n",
       "    .dataframe tbody tr th:only-of-type {\n",
       "        vertical-align: middle;\n",
       "    }\n",
       "\n",
       "    .dataframe tbody tr th {\n",
       "        vertical-align: top;\n",
       "    }\n",
       "\n",
       "    .dataframe thead th {\n",
       "        text-align: right;\n",
       "    }\n",
       "</style>\n",
       "<table border=\"1\" class=\"dataframe\">\n",
       "  <thead>\n",
       "    <tr style=\"text-align: right;\">\n",
       "      <th></th>\n",
       "      <th>Banner Ad Name</th>\n",
       "      <th>Click ID</th>\n",
       "      <th>Link/Button Clicked On</th>\n",
       "      <th>Link/Button URL</th>\n",
       "      <th>Datetime</th>\n",
       "      <th>State</th>\n",
       "      <th>Gender</th>\n",
       "      <th>Income Level</th>\n",
       "      <th>Channel</th>\n",
       "    </tr>\n",
       "  </thead>\n",
       "  <tbody>\n",
       "    <tr>\n",
       "      <th>0</th>\n",
       "      <td>Banner 1 - Short</td>\n",
       "      <td>5859</td>\n",
       "      <td>Unsubscribe</td>\n",
       "      <td>https://example.com/learn</td>\n",
       "      <td>04/07/2024 23:19</td>\n",
       "      <td>California</td>\n",
       "      <td>Female</td>\n",
       "      <td>High</td>\n",
       "      <td>linkedin</td>\n",
       "    </tr>\n",
       "    <tr>\n",
       "      <th>1</th>\n",
       "      <td>Banner 1 - Short</td>\n",
       "      <td>8914</td>\n",
       "      <td>Unsubscribe</td>\n",
       "      <td>https://example.com/learn</td>\n",
       "      <td>30/07/2024 20:32</td>\n",
       "      <td>Texas</td>\n",
       "      <td>Male</td>\n",
       "      <td>High</td>\n",
       "      <td>linkedin</td>\n",
       "    </tr>\n",
       "    <tr>\n",
       "      <th>2</th>\n",
       "      <td>Banner 1 - Short</td>\n",
       "      <td>2315</td>\n",
       "      <td>Sign Up</td>\n",
       "      <td>https://example.com/signup</td>\n",
       "      <td>12/07/2024 02:21</td>\n",
       "      <td>Illinois</td>\n",
       "      <td>Male</td>\n",
       "      <td>High</td>\n",
       "      <td>linkedin</td>\n",
       "    </tr>\n",
       "    <tr>\n",
       "      <th>3</th>\n",
       "      <td>Banner 1 - Short</td>\n",
       "      <td>6910</td>\n",
       "      <td>Learn More</td>\n",
       "      <td>https://example.com/hide_banner_add</td>\n",
       "      <td>21/07/2024 23:42</td>\n",
       "      <td>New York</td>\n",
       "      <td>Male</td>\n",
       "      <td>Low</td>\n",
       "      <td>linkedin</td>\n",
       "    </tr>\n",
       "    <tr>\n",
       "      <th>4</th>\n",
       "      <td>Banner 2 - Long</td>\n",
       "      <td>3075</td>\n",
       "      <td>Unsubscribe</td>\n",
       "      <td>https://example.com/learn</td>\n",
       "      <td>12/07/2024 07:54</td>\n",
       "      <td>Illinois</td>\n",
       "      <td>Undisclosed</td>\n",
       "      <td>High</td>\n",
       "      <td>linkedin</td>\n",
       "    </tr>\n",
       "  </tbody>\n",
       "</table>\n",
       "</div>"
      ]
     },
     "execution_count": 4,
     "metadata": {},
     "output_type": "execute_result"
    }
   ],
   "execution_count": 4
  },
  {
   "metadata": {
    "ExecuteTime": {
     "end_time": "2024-12-23T11:52:28.016783Z",
     "start_time": "2024-12-23T11:52:28.007613Z"
    }
   },
   "cell_type": "code",
   "source": "all_impressions.head()",
   "id": "a419ef6de99e8ae9",
   "outputs": [
    {
     "data": {
      "text/plain": [
       "     Banner Ad Name  Impressions    Datetime   Channel\n",
       "0   Banner 2 - Long          179  07/07/2024  linkedin\n",
       "1   Banner 2 - Long          416  04/07/2024  linkedin\n",
       "2   Banner 2 - Long          101  16/07/2024  linkedin\n",
       "3  Banner 1 - Short          420  19/07/2024  linkedin\n",
       "4   Banner 2 - Long          211  11/07/2024  linkedin"
      ],
      "text/html": [
       "<div>\n",
       "<style scoped>\n",
       "    .dataframe tbody tr th:only-of-type {\n",
       "        vertical-align: middle;\n",
       "    }\n",
       "\n",
       "    .dataframe tbody tr th {\n",
       "        vertical-align: top;\n",
       "    }\n",
       "\n",
       "    .dataframe thead th {\n",
       "        text-align: right;\n",
       "    }\n",
       "</style>\n",
       "<table border=\"1\" class=\"dataframe\">\n",
       "  <thead>\n",
       "    <tr style=\"text-align: right;\">\n",
       "      <th></th>\n",
       "      <th>Banner Ad Name</th>\n",
       "      <th>Impressions</th>\n",
       "      <th>Datetime</th>\n",
       "      <th>Channel</th>\n",
       "    </tr>\n",
       "  </thead>\n",
       "  <tbody>\n",
       "    <tr>\n",
       "      <th>0</th>\n",
       "      <td>Banner 2 - Long</td>\n",
       "      <td>179</td>\n",
       "      <td>07/07/2024</td>\n",
       "      <td>linkedin</td>\n",
       "    </tr>\n",
       "    <tr>\n",
       "      <th>1</th>\n",
       "      <td>Banner 2 - Long</td>\n",
       "      <td>416</td>\n",
       "      <td>04/07/2024</td>\n",
       "      <td>linkedin</td>\n",
       "    </tr>\n",
       "    <tr>\n",
       "      <th>2</th>\n",
       "      <td>Banner 2 - Long</td>\n",
       "      <td>101</td>\n",
       "      <td>16/07/2024</td>\n",
       "      <td>linkedin</td>\n",
       "    </tr>\n",
       "    <tr>\n",
       "      <th>3</th>\n",
       "      <td>Banner 1 - Short</td>\n",
       "      <td>420</td>\n",
       "      <td>19/07/2024</td>\n",
       "      <td>linkedin</td>\n",
       "    </tr>\n",
       "    <tr>\n",
       "      <th>4</th>\n",
       "      <td>Banner 2 - Long</td>\n",
       "      <td>211</td>\n",
       "      <td>11/07/2024</td>\n",
       "      <td>linkedin</td>\n",
       "    </tr>\n",
       "  </tbody>\n",
       "</table>\n",
       "</div>"
      ]
     },
     "execution_count": 5,
     "metadata": {},
     "output_type": "execute_result"
    }
   ],
   "execution_count": 5
  },
  {
   "metadata": {
    "ExecuteTime": {
     "end_time": "2024-12-23T11:52:28.133222Z",
     "start_time": "2024-12-23T11:52:28.119312Z"
    }
   },
   "cell_type": "code",
   "source": [
    "# Rename banner names\n",
    "all_clicks[\"Banner Ad Name\"] =all_clicks[\"Banner Ad Name\"].replace({\"Banner 2 - Long\": \"Long\",\"Banner 1 - Short\": \"Short\"})\n",
    "all_impressions[\"Banner Ad Name\"] =all_impressions[\"Banner Ad Name\"].replace({\"Banner 2 - Long\": \"Long\",\"Banner 1 - Short\": \"Short\"})\n",
    "all_clicks"
   ],
   "id": "d551110bf728c0fe",
   "outputs": [
    {
     "data": {
      "text/plain": [
       "    Banner Ad Name  Click ID Link/Button Clicked On  \\\n",
       "0            Short      5859            Unsubscribe   \n",
       "1            Short      8914            Unsubscribe   \n",
       "2            Short      2315                Sign Up   \n",
       "3            Short      6910             Learn More   \n",
       "4             Long      3075            Unsubscribe   \n",
       "..             ...       ...                    ...   \n",
       "658           Long      7580                Sign Up   \n",
       "659          Short      5342                Sign Up   \n",
       "660          Short      7817             Learn More   \n",
       "661           Long      4387                Sign Up   \n",
       "662           Long      1845                Sign Up   \n",
       "\n",
       "                         Link/Button URL          Datetime       State  \\\n",
       "0              https://example.com/learn  04/07/2024 23:19  California   \n",
       "1              https://example.com/learn  30/07/2024 20:32       Texas   \n",
       "2             https://example.com/signup  12/07/2024 02:21    Illinois   \n",
       "3    https://example.com/hide_banner_add  21/07/2024 23:42    New York   \n",
       "4              https://example.com/learn  12/07/2024 07:54    Illinois   \n",
       "..                                   ...               ...         ...   \n",
       "658  https://example.com/hide_banner_add  30/07/2024 00:15    Illinois   \n",
       "659            https://example.com/learn  04/07/2024 13:27    New York   \n",
       "660           https://example.com/signup  30/07/2024 05:53    Illinois   \n",
       "661  https://example.com/hide_banner_add  19/07/2024 06:51  California   \n",
       "662           https://example.com/signup  29/07/2024 00:55    New York   \n",
       "\n",
       "          Gender Income Level   Channel  \n",
       "0         Female         High  linkedin  \n",
       "1           Male         High  linkedin  \n",
       "2           Male         High  linkedin  \n",
       "3           Male          Low  linkedin  \n",
       "4    Undisclosed         High  linkedin  \n",
       "..           ...          ...       ...  \n",
       "658       Female       Middle   twitter  \n",
       "659       Female         High   twitter  \n",
       "660         Male         High   twitter  \n",
       "661       Female       Middle   twitter  \n",
       "662       Female       Middle   twitter  \n",
       "\n",
       "[663 rows x 9 columns]"
      ],
      "text/html": [
       "<div>\n",
       "<style scoped>\n",
       "    .dataframe tbody tr th:only-of-type {\n",
       "        vertical-align: middle;\n",
       "    }\n",
       "\n",
       "    .dataframe tbody tr th {\n",
       "        vertical-align: top;\n",
       "    }\n",
       "\n",
       "    .dataframe thead th {\n",
       "        text-align: right;\n",
       "    }\n",
       "</style>\n",
       "<table border=\"1\" class=\"dataframe\">\n",
       "  <thead>\n",
       "    <tr style=\"text-align: right;\">\n",
       "      <th></th>\n",
       "      <th>Banner Ad Name</th>\n",
       "      <th>Click ID</th>\n",
       "      <th>Link/Button Clicked On</th>\n",
       "      <th>Link/Button URL</th>\n",
       "      <th>Datetime</th>\n",
       "      <th>State</th>\n",
       "      <th>Gender</th>\n",
       "      <th>Income Level</th>\n",
       "      <th>Channel</th>\n",
       "    </tr>\n",
       "  </thead>\n",
       "  <tbody>\n",
       "    <tr>\n",
       "      <th>0</th>\n",
       "      <td>Short</td>\n",
       "      <td>5859</td>\n",
       "      <td>Unsubscribe</td>\n",
       "      <td>https://example.com/learn</td>\n",
       "      <td>04/07/2024 23:19</td>\n",
       "      <td>California</td>\n",
       "      <td>Female</td>\n",
       "      <td>High</td>\n",
       "      <td>linkedin</td>\n",
       "    </tr>\n",
       "    <tr>\n",
       "      <th>1</th>\n",
       "      <td>Short</td>\n",
       "      <td>8914</td>\n",
       "      <td>Unsubscribe</td>\n",
       "      <td>https://example.com/learn</td>\n",
       "      <td>30/07/2024 20:32</td>\n",
       "      <td>Texas</td>\n",
       "      <td>Male</td>\n",
       "      <td>High</td>\n",
       "      <td>linkedin</td>\n",
       "    </tr>\n",
       "    <tr>\n",
       "      <th>2</th>\n",
       "      <td>Short</td>\n",
       "      <td>2315</td>\n",
       "      <td>Sign Up</td>\n",
       "      <td>https://example.com/signup</td>\n",
       "      <td>12/07/2024 02:21</td>\n",
       "      <td>Illinois</td>\n",
       "      <td>Male</td>\n",
       "      <td>High</td>\n",
       "      <td>linkedin</td>\n",
       "    </tr>\n",
       "    <tr>\n",
       "      <th>3</th>\n",
       "      <td>Short</td>\n",
       "      <td>6910</td>\n",
       "      <td>Learn More</td>\n",
       "      <td>https://example.com/hide_banner_add</td>\n",
       "      <td>21/07/2024 23:42</td>\n",
       "      <td>New York</td>\n",
       "      <td>Male</td>\n",
       "      <td>Low</td>\n",
       "      <td>linkedin</td>\n",
       "    </tr>\n",
       "    <tr>\n",
       "      <th>4</th>\n",
       "      <td>Long</td>\n",
       "      <td>3075</td>\n",
       "      <td>Unsubscribe</td>\n",
       "      <td>https://example.com/learn</td>\n",
       "      <td>12/07/2024 07:54</td>\n",
       "      <td>Illinois</td>\n",
       "      <td>Undisclosed</td>\n",
       "      <td>High</td>\n",
       "      <td>linkedin</td>\n",
       "    </tr>\n",
       "    <tr>\n",
       "      <th>...</th>\n",
       "      <td>...</td>\n",
       "      <td>...</td>\n",
       "      <td>...</td>\n",
       "      <td>...</td>\n",
       "      <td>...</td>\n",
       "      <td>...</td>\n",
       "      <td>...</td>\n",
       "      <td>...</td>\n",
       "      <td>...</td>\n",
       "    </tr>\n",
       "    <tr>\n",
       "      <th>658</th>\n",
       "      <td>Long</td>\n",
       "      <td>7580</td>\n",
       "      <td>Sign Up</td>\n",
       "      <td>https://example.com/hide_banner_add</td>\n",
       "      <td>30/07/2024 00:15</td>\n",
       "      <td>Illinois</td>\n",
       "      <td>Female</td>\n",
       "      <td>Middle</td>\n",
       "      <td>twitter</td>\n",
       "    </tr>\n",
       "    <tr>\n",
       "      <th>659</th>\n",
       "      <td>Short</td>\n",
       "      <td>5342</td>\n",
       "      <td>Sign Up</td>\n",
       "      <td>https://example.com/learn</td>\n",
       "      <td>04/07/2024 13:27</td>\n",
       "      <td>New York</td>\n",
       "      <td>Female</td>\n",
       "      <td>High</td>\n",
       "      <td>twitter</td>\n",
       "    </tr>\n",
       "    <tr>\n",
       "      <th>660</th>\n",
       "      <td>Short</td>\n",
       "      <td>7817</td>\n",
       "      <td>Learn More</td>\n",
       "      <td>https://example.com/signup</td>\n",
       "      <td>30/07/2024 05:53</td>\n",
       "      <td>Illinois</td>\n",
       "      <td>Male</td>\n",
       "      <td>High</td>\n",
       "      <td>twitter</td>\n",
       "    </tr>\n",
       "    <tr>\n",
       "      <th>661</th>\n",
       "      <td>Long</td>\n",
       "      <td>4387</td>\n",
       "      <td>Sign Up</td>\n",
       "      <td>https://example.com/hide_banner_add</td>\n",
       "      <td>19/07/2024 06:51</td>\n",
       "      <td>California</td>\n",
       "      <td>Female</td>\n",
       "      <td>Middle</td>\n",
       "      <td>twitter</td>\n",
       "    </tr>\n",
       "    <tr>\n",
       "      <th>662</th>\n",
       "      <td>Long</td>\n",
       "      <td>1845</td>\n",
       "      <td>Sign Up</td>\n",
       "      <td>https://example.com/signup</td>\n",
       "      <td>29/07/2024 00:55</td>\n",
       "      <td>New York</td>\n",
       "      <td>Female</td>\n",
       "      <td>Middle</td>\n",
       "      <td>twitter</td>\n",
       "    </tr>\n",
       "  </tbody>\n",
       "</table>\n",
       "<p>663 rows × 9 columns</p>\n",
       "</div>"
      ]
     },
     "execution_count": 6,
     "metadata": {},
     "output_type": "execute_result"
    }
   ],
   "execution_count": 6
  },
  {
   "metadata": {
    "ExecuteTime": {
     "end_time": "2024-12-23T11:52:28.360949Z",
     "start_time": "2024-12-23T11:52:28.334544Z"
    }
   },
   "cell_type": "code",
   "source": [
    "all_clicks.to_csv(\"all_clicks.csv\", index=False)\n",
    "all_impressions.to_csv(\"all_impressions.csv\", index=False)"
   ],
   "id": "c47a9b6d162c8fe7",
   "outputs": [],
   "execution_count": 7
  },
  {
   "metadata": {},
   "cell_type": "markdown",
   "source": "### EDA for Clicks",
   "id": "1ff9d8f15f8354cf"
  },
  {
   "metadata": {
    "ExecuteTime": {
     "end_time": "2024-12-23T11:52:28.504058Z",
     "start_time": "2024-12-23T11:52:28.492880Z"
    }
   },
   "cell_type": "code",
   "source": "all_clicks[\"Link/Button Clicked On\"].value_counts()",
   "id": "78c7c5e6db5f9932",
   "outputs": [
    {
     "data": {
      "text/plain": [
       "Link/Button Clicked On\n",
       "Unsubscribe    239\n",
       "Learn More     220\n",
       "Sign Up        204\n",
       "Name: count, dtype: int64"
      ]
     },
     "execution_count": 8,
     "metadata": {},
     "output_type": "execute_result"
    }
   ],
   "execution_count": 8
  },
  {
   "metadata": {
    "ExecuteTime": {
     "end_time": "2024-12-23T11:52:28.698663Z",
     "start_time": "2024-12-23T11:52:28.688796Z"
    }
   },
   "cell_type": "code",
   "source": "all_clicks[\"Link/Button URL\"].value_counts()",
   "id": "e7231ffa1ae7ab0d",
   "outputs": [
    {
     "data": {
      "text/plain": [
       "Link/Button URL\n",
       "https://example.com/signup             241\n",
       "https://example.com/hide_banner_add    213\n",
       "https://example.com/learn              209\n",
       "Name: count, dtype: int64"
      ]
     },
     "execution_count": 9,
     "metadata": {},
     "output_type": "execute_result"
    }
   ],
   "execution_count": 9
  },
  {
   "metadata": {
    "ExecuteTime": {
     "end_time": "2024-12-23T11:52:28.847805Z",
     "start_time": "2024-12-23T11:52:28.839438Z"
    }
   },
   "cell_type": "code",
   "source": [
    "#Select Adds which were \"Hide Ads\"\n",
    "hide_ads = all_clicks[all_clicks[\"Link/Button URL\"] == \"https://example.com/hide_banner_add\"]\n"
   ],
   "id": "4aa5a18c30abcf77",
   "outputs": [],
   "execution_count": 10
  },
  {
   "metadata": {},
   "cell_type": "markdown",
   "source": "#### 1.\tIdentify which banner ad format (short/long) had the highest number of hide ads clicked due to \"Not interested in ad\" across all marketing channels.",
   "id": "abfce4c5de3b621f"
  },
  {
   "metadata": {
    "ExecuteTime": {
     "end_time": "2024-12-23T11:52:28.969938Z",
     "start_time": "2024-12-23T11:52:28.963849Z"
    }
   },
   "cell_type": "code",
   "source": [
    "# SQL\n",
    "# SELECT banner_ad_name\n",
    "# FROM (\n",
    "#    SELECT banner_ad_name, COUNT(*) as total,\n",
    "#           RANK() OVER (ORDER BY COUNT(*) DESC) as rank\n",
    "#    FROM data\n",
    "#    WHERE \"Link/Button URL\" = 'https://example.com/hide_banner_ad'\n",
    "#    GROUP BY banner_ad_name\n",
    "# ) subquery\n",
    "# WHERE rank = 1;"
   ],
   "id": "374eead67cb899ce",
   "outputs": [],
   "execution_count": 11
  },
  {
   "metadata": {
    "ExecuteTime": {
     "end_time": "2024-12-23T11:52:29.063789Z",
     "start_time": "2024-12-23T11:52:29.051781Z"
    }
   },
   "cell_type": "code",
   "source": [
    "x1 = hide_ads.groupby(\"Banner Ad Name\").size().reset_index(name=\"Total\")\n",
    "x1"
   ],
   "id": "d76ced2a1458bb3e",
   "outputs": [
    {
     "data": {
      "text/plain": [
       "  Banner Ad Name  Total\n",
       "0           Long     71\n",
       "1          Short    142"
      ],
      "text/html": [
       "<div>\n",
       "<style scoped>\n",
       "    .dataframe tbody tr th:only-of-type {\n",
       "        vertical-align: middle;\n",
       "    }\n",
       "\n",
       "    .dataframe tbody tr th {\n",
       "        vertical-align: top;\n",
       "    }\n",
       "\n",
       "    .dataframe thead th {\n",
       "        text-align: right;\n",
       "    }\n",
       "</style>\n",
       "<table border=\"1\" class=\"dataframe\">\n",
       "  <thead>\n",
       "    <tr style=\"text-align: right;\">\n",
       "      <th></th>\n",
       "      <th>Banner Ad Name</th>\n",
       "      <th>Total</th>\n",
       "    </tr>\n",
       "  </thead>\n",
       "  <tbody>\n",
       "    <tr>\n",
       "      <th>0</th>\n",
       "      <td>Long</td>\n",
       "      <td>71</td>\n",
       "    </tr>\n",
       "    <tr>\n",
       "      <th>1</th>\n",
       "      <td>Short</td>\n",
       "      <td>142</td>\n",
       "    </tr>\n",
       "  </tbody>\n",
       "</table>\n",
       "</div>"
      ]
     },
     "execution_count": 12,
     "metadata": {},
     "output_type": "execute_result"
    }
   ],
   "execution_count": 12
  },
  {
   "metadata": {
    "ExecuteTime": {
     "end_time": "2024-12-23T11:52:29.152222Z",
     "start_time": "2024-12-23T11:52:29.141087Z"
    }
   },
   "cell_type": "code",
   "source": [
    "x2 = hide_ads.groupby([\"Channel\",\"Banner Ad Name\"]).size().reset_index(name=\"Total\")\n",
    "x2"
   ],
   "id": "252bab97cace2a34",
   "outputs": [
    {
     "data": {
      "text/plain": [
       "     Channel Banner Ad Name  Total\n",
       "0  instagram           Long     19\n",
       "1  instagram          Short     98\n",
       "2   linkedin           Long     26\n",
       "3   linkedin          Short     22\n",
       "4    twitter           Long     26\n",
       "5    twitter          Short     22"
      ],
      "text/html": [
       "<div>\n",
       "<style scoped>\n",
       "    .dataframe tbody tr th:only-of-type {\n",
       "        vertical-align: middle;\n",
       "    }\n",
       "\n",
       "    .dataframe tbody tr th {\n",
       "        vertical-align: top;\n",
       "    }\n",
       "\n",
       "    .dataframe thead th {\n",
       "        text-align: right;\n",
       "    }\n",
       "</style>\n",
       "<table border=\"1\" class=\"dataframe\">\n",
       "  <thead>\n",
       "    <tr style=\"text-align: right;\">\n",
       "      <th></th>\n",
       "      <th>Channel</th>\n",
       "      <th>Banner Ad Name</th>\n",
       "      <th>Total</th>\n",
       "    </tr>\n",
       "  </thead>\n",
       "  <tbody>\n",
       "    <tr>\n",
       "      <th>0</th>\n",
       "      <td>instagram</td>\n",
       "      <td>Long</td>\n",
       "      <td>19</td>\n",
       "    </tr>\n",
       "    <tr>\n",
       "      <th>1</th>\n",
       "      <td>instagram</td>\n",
       "      <td>Short</td>\n",
       "      <td>98</td>\n",
       "    </tr>\n",
       "    <tr>\n",
       "      <th>2</th>\n",
       "      <td>linkedin</td>\n",
       "      <td>Long</td>\n",
       "      <td>26</td>\n",
       "    </tr>\n",
       "    <tr>\n",
       "      <th>3</th>\n",
       "      <td>linkedin</td>\n",
       "      <td>Short</td>\n",
       "      <td>22</td>\n",
       "    </tr>\n",
       "    <tr>\n",
       "      <th>4</th>\n",
       "      <td>twitter</td>\n",
       "      <td>Long</td>\n",
       "      <td>26</td>\n",
       "    </tr>\n",
       "    <tr>\n",
       "      <th>5</th>\n",
       "      <td>twitter</td>\n",
       "      <td>Short</td>\n",
       "      <td>22</td>\n",
       "    </tr>\n",
       "  </tbody>\n",
       "</table>\n",
       "</div>"
      ]
     },
     "execution_count": 13,
     "metadata": {},
     "output_type": "execute_result"
    }
   ],
   "execution_count": 13
  },
  {
   "metadata": {
    "ExecuteTime": {
     "end_time": "2024-12-23T11:52:29.450896Z",
     "start_time": "2024-12-23T11:52:29.231452Z"
    }
   },
   "cell_type": "code",
   "source": [
    "\n",
    "# Plotting\n",
    "plt.figure(figsize=(7, 5))\n",
    "sns.barplot(data=x2, x=\"Banner Ad Name\", y=\"Total\", hue=\"Channel\")\n",
    "\n",
    "# Customize the plot\n",
    "plt.title(\"Total Clicks by Channel and Banner Ad Name\", fontsize=14)\n",
    "plt.xlabel(\"Banner Ad Name\", fontsize=12)\n",
    "plt.ylabel(\"Total Clicks\", fontsize=12)\n",
    "plt.legend(title=\"Channel\", fontsize=10)\n",
    "plt.grid(axis='y', linestyle='--', alpha=0.7)\n",
    "plt.tight_layout()\n",
    "\n",
    "# Show the plot\n",
    "plt.show()"
   ],
   "id": "853fc27bc4579eba",
   "outputs": [
    {
     "data": {
      "text/plain": [
       "<Figure size 700x500 with 1 Axes>"
      ],
      "image/png": "[encoded data removed]"
     },
     "metadata": {},
     "output_type": "display_data"
    }
   ],
   "execution_count": 14
  },
  {
   "metadata": {},
   "cell_type": "markdown",
   "source": "### 2.\tFind out which banner ad type had the highest number of impressions but the lowest number of clicks across all channels",
   "id": "d36f9af849ff1c3f"
  },
  {
   "metadata": {
    "ExecuteTime": {
     "end_time": "2024-12-23T11:52:29.539112Z",
     "start_time": "2024-12-23T11:52:29.528048Z"
    }
   },
   "cell_type": "code",
   "source": [
    "clicks = all_clicks.groupby(\"Banner Ad Name\").size().reset_index(name=\"Total\")\n",
    "clicks"
   ],
   "id": "aed706684245133e",
   "outputs": [
    {
     "data": {
      "text/plain": [
       "  Banner Ad Name  Total\n",
       "0           Long    217\n",
       "1          Short    446"
      ],
      "text/html": [
       "<div>\n",
       "<style scoped>\n",
       "    .dataframe tbody tr th:only-of-type {\n",
       "        vertical-align: middle;\n",
       "    }\n",
       "\n",
       "    .dataframe tbody tr th {\n",
       "        vertical-align: top;\n",
       "    }\n",
       "\n",
       "    .dataframe thead th {\n",
       "        text-align: right;\n",
       "    }\n",
       "</style>\n",
       "<table border=\"1\" class=\"dataframe\">\n",
       "  <thead>\n",
       "    <tr style=\"text-align: right;\">\n",
       "      <th></th>\n",
       "      <th>Banner Ad Name</th>\n",
       "      <th>Total</th>\n",
       "    </tr>\n",
       "  </thead>\n",
       "  <tbody>\n",
       "    <tr>\n",
       "      <th>0</th>\n",
       "      <td>Long</td>\n",
       "      <td>217</td>\n",
       "    </tr>\n",
       "    <tr>\n",
       "      <th>1</th>\n",
       "      <td>Short</td>\n",
       "      <td>446</td>\n",
       "    </tr>\n",
       "  </tbody>\n",
       "</table>\n",
       "</div>"
      ]
     },
     "execution_count": 15,
     "metadata": {},
     "output_type": "execute_result"
    }
   ],
   "execution_count": 15
  },
  {
   "metadata": {
    "ExecuteTime": {
     "end_time": "2024-12-23T11:52:29.695298Z",
     "start_time": "2024-12-23T11:52:29.685196Z"
    }
   },
   "cell_type": "code",
   "source": [
    "impressions = all_impressions.groupby(\"Banner Ad Name\")[\"Impressions\"].sum().reset_index(name=\"Total Impressions\")\n",
    "impressions"
   ],
   "id": "f2b0eebc5aa9b1c",
   "outputs": [
    {
     "data": {
      "text/plain": [
       "  Banner Ad Name  Total Impressions\n",
       "0           Long               7586\n",
       "1          Short               4278"
      ],
      "text/html": [
       "<div>\n",
       "<style scoped>\n",
       "    .dataframe tbody tr th:only-of-type {\n",
       "        vertical-align: middle;\n",
       "    }\n",
       "\n",
       "    .dataframe tbody tr th {\n",
       "        vertical-align: top;\n",
       "    }\n",
       "\n",
       "    .dataframe thead th {\n",
       "        text-align: right;\n",
       "    }\n",
       "</style>\n",
       "<table border=\"1\" class=\"dataframe\">\n",
       "  <thead>\n",
       "    <tr style=\"text-align: right;\">\n",
       "      <th></th>\n",
       "      <th>Banner Ad Name</th>\n",
       "      <th>Total Impressions</th>\n",
       "    </tr>\n",
       "  </thead>\n",
       "  <tbody>\n",
       "    <tr>\n",
       "      <th>0</th>\n",
       "      <td>Long</td>\n",
       "      <td>7586</td>\n",
       "    </tr>\n",
       "    <tr>\n",
       "      <th>1</th>\n",
       "      <td>Short</td>\n",
       "      <td>4278</td>\n",
       "    </tr>\n",
       "  </tbody>\n",
       "</table>\n",
       "</div>"
      ]
     },
     "execution_count": 16,
     "metadata": {},
     "output_type": "execute_result"
    }
   ],
   "execution_count": 16
  },
  {
   "metadata": {
    "ExecuteTime": {
     "end_time": "2024-12-23T11:52:29.874274Z",
     "start_time": "2024-12-23T11:52:29.869234Z"
    }
   },
   "cell_type": "code",
   "source": [
    "#SQL\n",
    "# WITH First AS (\n",
    "#     SELECT banner_ad_name, SUM(Impressions) as total_impressions\n",
    "#     FROM data\n",
    "#     GROUP BY banner_ad_name\n",
    "#     ORDER BY total_impressions DESC\n",
    "#     LIMIT 1\n",
    "# ),\n",
    "# Second AS (\n",
    "#     SELECT banner_ad_name, COUNT(*) as total_clicks\n",
    "#     FROM data2\n",
    "#     GROUP BY banner_ad_name\n",
    "#     ORDER BY total_clicks ASC\n",
    "#     LIMIT 1\n",
    "# )\n",
    "# SELECT First.banner_ad_name\n",
    "# FROM First\n",
    "# JOIN Second ON First.banner_ad_name = Second.banner_ad_name;"
   ],
   "id": "c644e74f81507b06",
   "outputs": [],
   "execution_count": 17
  },
  {
   "metadata": {},
   "cell_type": "markdown",
   "source": "### 3.\tDetermine the most effective marketing channel in terms of generating clicks, relative to the number of impressions.",
   "id": "3bc4017f14a1896a"
  },
  {
   "metadata": {
    "ExecuteTime": {
     "end_time": "2024-12-23T11:52:30.045927Z",
     "start_time": "2024-12-23T11:52:30.032798Z"
    }
   },
   "cell_type": "code",
   "source": [
    "#We need total number of clicks and impressions for each channel\n",
    "channel_clicks = all_clicks.groupby(\"Channel\").size().reset_index(name=\"Total Clicks\")\n",
    "channel_clicks\n"
   ],
   "id": "ac1f0c66d5a5eb92",
   "outputs": [
    {
     "data": {
      "text/plain": [
       "     Channel  Total Clicks\n",
       "0  instagram           395\n",
       "1   linkedin           134\n",
       "2    twitter           134"
      ],
      "text/html": [
       "<div>\n",
       "<style scoped>\n",
       "    .dataframe tbody tr th:only-of-type {\n",
       "        vertical-align: middle;\n",
       "    }\n",
       "\n",
       "    .dataframe tbody tr th {\n",
       "        vertical-align: top;\n",
       "    }\n",
       "\n",
       "    .dataframe thead th {\n",
       "        text-align: right;\n",
       "    }\n",
       "</style>\n",
       "<table border=\"1\" class=\"dataframe\">\n",
       "  <thead>\n",
       "    <tr style=\"text-align: right;\">\n",
       "      <th></th>\n",
       "      <th>Channel</th>\n",
       "      <th>Total Clicks</th>\n",
       "    </tr>\n",
       "  </thead>\n",
       "  <tbody>\n",
       "    <tr>\n",
       "      <th>0</th>\n",
       "      <td>instagram</td>\n",
       "      <td>395</td>\n",
       "    </tr>\n",
       "    <tr>\n",
       "      <th>1</th>\n",
       "      <td>linkedin</td>\n",
       "      <td>134</td>\n",
       "    </tr>\n",
       "    <tr>\n",
       "      <th>2</th>\n",
       "      <td>twitter</td>\n",
       "      <td>134</td>\n",
       "    </tr>\n",
       "  </tbody>\n",
       "</table>\n",
       "</div>"
      ]
     },
     "execution_count": 18,
     "metadata": {},
     "output_type": "execute_result"
    }
   ],
   "execution_count": 18
  },
  {
   "metadata": {
    "ExecuteTime": {
     "end_time": "2024-12-23T11:52:30.237724Z",
     "start_time": "2024-12-23T11:52:30.227828Z"
    }
   },
   "cell_type": "code",
   "source": [
    "channel_impressions = all_impressions.groupby(\"Channel\")[\"Impressions\"].sum().reset_index(name=\"Total Impressions\")\n",
    "channel_impressions"
   ],
   "id": "3df7be1c195d06c2",
   "outputs": [
    {
     "data": {
      "text/plain": [
       "    Channel  Total Impressions\n",
       "0  linkedin               5661\n",
       "1   twitter               6203"
      ],
      "text/html": [
       "<div>\n",
       "<style scoped>\n",
       "    .dataframe tbody tr th:only-of-type {\n",
       "        vertical-align: middle;\n",
       "    }\n",
       "\n",
       "    .dataframe tbody tr th {\n",
       "        vertical-align: top;\n",
       "    }\n",
       "\n",
       "    .dataframe thead th {\n",
       "        text-align: right;\n",
       "    }\n",
       "</style>\n",
       "<table border=\"1\" class=\"dataframe\">\n",
       "  <thead>\n",
       "    <tr style=\"text-align: right;\">\n",
       "      <th></th>\n",
       "      <th>Channel</th>\n",
       "      <th>Total Impressions</th>\n",
       "    </tr>\n",
       "  </thead>\n",
       "  <tbody>\n",
       "    <tr>\n",
       "      <th>0</th>\n",
       "      <td>linkedin</td>\n",
       "      <td>5661</td>\n",
       "    </tr>\n",
       "    <tr>\n",
       "      <th>1</th>\n",
       "      <td>twitter</td>\n",
       "      <td>6203</td>\n",
       "    </tr>\n",
       "  </tbody>\n",
       "</table>\n",
       "</div>"
      ]
     },
     "execution_count": 19,
     "metadata": {},
     "output_type": "execute_result"
    }
   ],
   "execution_count": 19
  },
  {
   "metadata": {
    "ExecuteTime": {
     "end_time": "2024-12-23T11:52:30.460388Z",
     "start_time": "2024-12-23T11:52:30.448481Z"
    }
   },
   "cell_type": "code",
   "source": [
    "alls = channel_clicks.merge(channel_impressions, on=\"Channel\",how=\"left\")\n",
    "alls[\"CTR\"] = alls[\"Total Clicks\"]/alls[\"Total Impressions\"]\n",
    "alls"
   ],
   "id": "4067a48ae8c0c4ec",
   "outputs": [
    {
     "data": {
      "text/plain": [
       "     Channel  Total Clicks  Total Impressions       CTR\n",
       "0  instagram           395                NaN       NaN\n",
       "1   linkedin           134             5661.0  0.023671\n",
       "2    twitter           134             6203.0  0.021602"
      ],
      "text/html": [
       "<div>\n",
       "<style scoped>\n",
       "    .dataframe tbody tr th:only-of-type {\n",
       "        vertical-align: middle;\n",
       "    }\n",
       "\n",
       "    .dataframe tbody tr th {\n",
       "        vertical-align: top;\n",
       "    }\n",
       "\n",
       "    .dataframe thead th {\n",
       "        text-align: right;\n",
       "    }\n",
       "</style>\n",
       "<table border=\"1\" class=\"dataframe\">\n",
       "  <thead>\n",
       "    <tr style=\"text-align: right;\">\n",
       "      <th></th>\n",
       "      <th>Channel</th>\n",
       "      <th>Total Clicks</th>\n",
       "      <th>Total Impressions</th>\n",
       "      <th>CTR</th>\n",
       "    </tr>\n",
       "  </thead>\n",
       "  <tbody>\n",
       "    <tr>\n",
       "      <th>0</th>\n",
       "      <td>instagram</td>\n",
       "      <td>395</td>\n",
       "      <td>NaN</td>\n",
       "      <td>NaN</td>\n",
       "    </tr>\n",
       "    <tr>\n",
       "      <th>1</th>\n",
       "      <td>linkedin</td>\n",
       "      <td>134</td>\n",
       "      <td>5661.0</td>\n",
       "      <td>0.023671</td>\n",
       "    </tr>\n",
       "    <tr>\n",
       "      <th>2</th>\n",
       "      <td>twitter</td>\n",
       "      <td>134</td>\n",
       "      <td>6203.0</td>\n",
       "      <td>0.021602</td>\n",
       "    </tr>\n",
       "  </tbody>\n",
       "</table>\n",
       "</div>"
      ]
     },
     "execution_count": 20,
     "metadata": {},
     "output_type": "execute_result"
    }
   ],
   "execution_count": 20
  },
  {
   "metadata": {
    "ExecuteTime": {
     "end_time": "2024-12-23T11:52:30.695890Z",
     "start_time": "2024-12-23T11:52:30.689507Z"
    }
   },
   "cell_type": "code",
   "source": [
    "# WITH Clicks AS (\n",
    "#     SELECT channel, COUNT(*) as total_clicks\n",
    "#     FROM data\n",
    "#     GROUP BY channel\n",
    "# ),\n",
    "# Impressions AS (\n",
    "#     SELECT channel, SUM(impressions) as total_impressions\n",
    "#     FROM data2\n",
    "#     GROUP BY channel\n",
    "# )\n",
    "# SELECT\n",
    "#     c.channel,\n",
    "#     SUM(c.total_clicks) / SUM(i.total_impressions) as click_rate\n",
    "# FROM Clicks c\n",
    "# JOIN Impressions i ON c.channel = i.channel"
   ],
   "id": "91ea8085ea124de",
   "outputs": [],
   "execution_count": 21
  },
  {
   "metadata": {
    "ExecuteTime": {
     "end_time": "2024-12-23T11:52:30.784915Z",
     "start_time": "2024-12-23T11:52:30.772105Z"
    }
   },
   "cell_type": "code",
   "source": "",
   "id": "4a14bb3179b9b6b2",
   "outputs": [],
   "execution_count": null
  },
  {
   "metadata": {},
   "cell_type": "markdown",
   "source": "### 4.\tIdentify the hide ads click rate per reason for each banner ad type across all channels",
   "id": "1d44360f41459b90"
  },
  {
   "metadata": {
    "ExecuteTime": {
     "end_time": "2024-12-23T11:52:30.888203Z",
     "start_time": "2024-12-23T11:52:30.866717Z"
    }
   },
   "cell_type": "code",
   "source": "hide_ads",
   "id": "46c7f5a333dbb81e",
   "outputs": [
    {
     "data": {
      "text/plain": [
       "    Banner Ad Name  Click ID Link/Button Clicked On  \\\n",
       "3            Short      6910             Learn More   \n",
       "11            Long      2359                Sign Up   \n",
       "16            Long      2217                Sign Up   \n",
       "17            Long      2113             Learn More   \n",
       "19           Short      9765                Sign Up   \n",
       "..             ...       ...                    ...   \n",
       "649           Long      5832             Learn More   \n",
       "655          Short      7803             Learn More   \n",
       "656           Long      1154            Unsubscribe   \n",
       "658           Long      7580                Sign Up   \n",
       "661           Long      4387                Sign Up   \n",
       "\n",
       "                         Link/Button URL          Datetime       State  \\\n",
       "3    https://example.com/hide_banner_add  21/07/2024 23:42    New York   \n",
       "11   https://example.com/hide_banner_add  01/07/2024 10:28     Florida   \n",
       "16   https://example.com/hide_banner_add  04/07/2024 05:48  California   \n",
       "17   https://example.com/hide_banner_add  15/07/2024 15:43     Florida   \n",
       "19   https://example.com/hide_banner_add  22/07/2024 18:13  California   \n",
       "..                                   ...               ...         ...   \n",
       "649  https://example.com/hide_banner_add  12/07/2024 22:05       Texas   \n",
       "655  https://example.com/hide_banner_add  30/07/2024 11:09    Illinois   \n",
       "656  https://example.com/hide_banner_add  16/07/2024 15:16  California   \n",
       "658  https://example.com/hide_banner_add  30/07/2024 00:15    Illinois   \n",
       "661  https://example.com/hide_banner_add  19/07/2024 06:51  California   \n",
       "\n",
       "          Gender Income Level   Channel  \n",
       "3           Male          Low  linkedin  \n",
       "11          Male          Low  linkedin  \n",
       "16          Male         High  linkedin  \n",
       "17          Male       Middle  linkedin  \n",
       "19        Female         High  linkedin  \n",
       "..           ...          ...       ...  \n",
       "649         Male          Low   twitter  \n",
       "655  Undisclosed         High   twitter  \n",
       "656       Female         High   twitter  \n",
       "658       Female       Middle   twitter  \n",
       "661       Female       Middle   twitter  \n",
       "\n",
       "[213 rows x 9 columns]"
      ],
      "text/html": [
       "<div>\n",
       "<style scoped>\n",
       "    .dataframe tbody tr th:only-of-type {\n",
       "        vertical-align: middle;\n",
       "    }\n",
       "\n",
       "    .dataframe tbody tr th {\n",
       "        vertical-align: top;\n",
       "    }\n",
       "\n",
       "    .dataframe thead th {\n",
       "        text-align: right;\n",
       "    }\n",
       "</style>\n",
       "<table border=\"1\" class=\"dataframe\">\n",
       "  <thead>\n",
       "    <tr style=\"text-align: right;\">\n",
       "      <th></th>\n",
       "      <th>Banner Ad Name</th>\n",
       "      <th>Click ID</th>\n",
       "      <th>Link/Button Clicked On</th>\n",
       "      <th>Link/Button URL</th>\n",
       "      <th>Datetime</th>\n",
       "      <th>State</th>\n",
       "      <th>Gender</th>\n",
       "      <th>Income Level</th>\n",
       "      <th>Channel</th>\n",
       "    </tr>\n",
       "  </thead>\n",
       "  <tbody>\n",
       "    <tr>\n",
       "      <th>3</th>\n",
       "      <td>Short</td>\n",
       "      <td>6910</td>\n",
       "      <td>Learn More</td>\n",
       "      <td>https://example.com/hide_banner_add</td>\n",
       "      <td>21/07/2024 23:42</td>\n",
       "      <td>New York</td>\n",
       "      <td>Male</td>\n",
       "      <td>Low</td>\n",
       "      <td>linkedin</td>\n",
       "    </tr>\n",
       "    <tr>\n",
       "      <th>11</th>\n",
       "      <td>Long</td>\n",
       "      <td>2359</td>\n",
       "      <td>Sign Up</td>\n",
       "      <td>https://example.com/hide_banner_add</td>\n",
       "      <td>01/07/2024 10:28</td>\n",
       "      <td>Florida</td>\n",
       "      <td>Male</td>\n",
       "      <td>Low</td>\n",
       "      <td>linkedin</td>\n",
       "    </tr>\n",
       "    <tr>\n",
       "      <th>16</th>\n",
       "      <td>Long</td>\n",
       "      <td>2217</td>\n",
       "      <td>Sign Up</td>\n",
       "      <td>https://example.com/hide_banner_add</td>\n",
       "      <td>04/07/2024 05:48</td>\n",
       "      <td>California</td>\n",
       "      <td>Male</td>\n",
       "      <td>High</td>\n",
       "      <td>linkedin</td>\n",
       "    </tr>\n",
       "    <tr>\n",
       "      <th>17</th>\n",
       "      <td>Long</td>\n",
       "      <td>2113</td>\n",
       "      <td>Learn More</td>\n",
       "      <td>https://example.com/hide_banner_add</td>\n",
       "      <td>15/07/2024 15:43</td>\n",
       "      <td>Florida</td>\n",
       "      <td>Male</td>\n",
       "      <td>Middle</td>\n",
       "      <td>linkedin</td>\n",
       "    </tr>\n",
       "    <tr>\n",
       "      <th>19</th>\n",
       "      <td>Short</td>\n",
       "      <td>9765</td>\n",
       "      <td>Sign Up</td>\n",
       "      <td>https://example.com/hide_banner_add</td>\n",
       "      <td>22/07/2024 18:13</td>\n",
       "      <td>California</td>\n",
       "      <td>Female</td>\n",
       "      <td>High</td>\n",
       "      <td>linkedin</td>\n",
       "    </tr>\n",
       "    <tr>\n",
       "      <th>...</th>\n",
       "      <td>...</td>\n",
       "      <td>...</td>\n",
       "      <td>...</td>\n",
       "      <td>...</td>\n",
       "      <td>...</td>\n",
       "      <td>...</td>\n",
       "      <td>...</td>\n",
       "      <td>...</td>\n",
       "      <td>...</td>\n",
       "    </tr>\n",
       "    <tr>\n",
       "      <th>649</th>\n",
       "      <td>Long</td>\n",
       "      <td>5832</td>\n",
       "      <td>Learn More</td>\n",
       "      <td>https://example.com/hide_banner_add</td>\n",
       "      <td>12/07/2024 22:05</td>\n",
       "      <td>Texas</td>\n",
       "      <td>Male</td>\n",
       "      <td>Low</td>\n",
       "      <td>twitter</td>\n",
       "    </tr>\n",
       "    <tr>\n",
       "      <th>655</th>\n",
       "      <td>Short</td>\n",
       "      <td>7803</td>\n",
       "      <td>Learn More</td>\n",
       "      <td>https://example.com/hide_banner_add</td>\n",
       "      <td>30/07/2024 11:09</td>\n",
       "      <td>Illinois</td>\n",
       "      <td>Undisclosed</td>\n",
       "      <td>High</td>\n",
       "      <td>twitter</td>\n",
       "    </tr>\n",
       "    <tr>\n",
       "      <th>656</th>\n",
       "      <td>Long</td>\n",
       "      <td>1154</td>\n",
       "      <td>Unsubscribe</td>\n",
       "      <td>https://example.com/hide_banner_add</td>\n",
       "      <td>16/07/2024 15:16</td>\n",
       "      <td>California</td>\n",
       "      <td>Female</td>\n",
       "      <td>High</td>\n",
       "      <td>twitter</td>\n",
       "    </tr>\n",
       "    <tr>\n",
       "      <th>658</th>\n",
       "      <td>Long</td>\n",
       "      <td>7580</td>\n",
       "      <td>Sign Up</td>\n",
       "      <td>https://example.com/hide_banner_add</td>\n",
       "      <td>30/07/2024 00:15</td>\n",
       "      <td>Illinois</td>\n",
       "      <td>Female</td>\n",
       "      <td>Middle</td>\n",
       "      <td>twitter</td>\n",
       "    </tr>\n",
       "    <tr>\n",
       "      <th>661</th>\n",
       "      <td>Long</td>\n",
       "      <td>4387</td>\n",
       "      <td>Sign Up</td>\n",
       "      <td>https://example.com/hide_banner_add</td>\n",
       "      <td>19/07/2024 06:51</td>\n",
       "      <td>California</td>\n",
       "      <td>Female</td>\n",
       "      <td>Middle</td>\n",
       "      <td>twitter</td>\n",
       "    </tr>\n",
       "  </tbody>\n",
       "</table>\n",
       "<p>213 rows × 9 columns</p>\n",
       "</div>"
      ]
     },
     "execution_count": 22,
     "metadata": {},
     "output_type": "execute_result"
    }
   ],
   "execution_count": 22
  },
  {
   "metadata": {
    "ExecuteTime": {
     "end_time": "2024-12-23T11:52:31.039091Z",
     "start_time": "2024-12-23T11:52:31.027114Z"
    }
   },
   "cell_type": "code",
   "source": [
    "clicks_per_person = hide_ads.groupby([\"Click ID\",\"Channel\",\"Banner Ad Name\"]).size().reset_index(name=\"Clicks\")\n",
    "clicks_per_person"
   ],
   "id": "58e33df989d0da0a",
   "outputs": [
    {
     "data": {
      "text/plain": [
       "     Click ID    Channel Banner Ad Name  Clicks\n",
       "0        1065  instagram           Long       1\n",
       "1        1154   linkedin           Long       1\n",
       "2        1154    twitter           Long       1\n",
       "3        1187   linkedin           Long       1\n",
       "4        1187    twitter           Long       1\n",
       "..        ...        ...            ...     ...\n",
       "208      9837    twitter          Short       1\n",
       "209      9882   linkedin          Short       1\n",
       "210      9882    twitter          Short       1\n",
       "211      9932  instagram          Short       1\n",
       "212      9979  instagram          Short       1\n",
       "\n",
       "[213 rows x 4 columns]"
      ],
      "text/html": [
       "<div>\n",
       "<style scoped>\n",
       "    .dataframe tbody tr th:only-of-type {\n",
       "        vertical-align: middle;\n",
       "    }\n",
       "\n",
       "    .dataframe tbody tr th {\n",
       "        vertical-align: top;\n",
       "    }\n",
       "\n",
       "    .dataframe thead th {\n",
       "        text-align: right;\n",
       "    }\n",
       "</style>\n",
       "<table border=\"1\" class=\"dataframe\">\n",
       "  <thead>\n",
       "    <tr style=\"text-align: right;\">\n",
       "      <th></th>\n",
       "      <th>Click ID</th>\n",
       "      <th>Channel</th>\n",
       "      <th>Banner Ad Name</th>\n",
       "      <th>Clicks</th>\n",
       "    </tr>\n",
       "  </thead>\n",
       "  <tbody>\n",
       "    <tr>\n",
       "      <th>0</th>\n",
       "      <td>1065</td>\n",
       "      <td>instagram</td>\n",
       "      <td>Long</td>\n",
       "      <td>1</td>\n",
       "    </tr>\n",
       "    <tr>\n",
       "      <th>1</th>\n",
       "      <td>1154</td>\n",
       "      <td>linkedin</td>\n",
       "      <td>Long</td>\n",
       "      <td>1</td>\n",
       "    </tr>\n",
       "    <tr>\n",
       "      <th>2</th>\n",
       "      <td>1154</td>\n",
       "      <td>twitter</td>\n",
       "      <td>Long</td>\n",
       "      <td>1</td>\n",
       "    </tr>\n",
       "    <tr>\n",
       "      <th>3</th>\n",
       "      <td>1187</td>\n",
       "      <td>linkedin</td>\n",
       "      <td>Long</td>\n",
       "      <td>1</td>\n",
       "    </tr>\n",
       "    <tr>\n",
       "      <th>4</th>\n",
       "      <td>1187</td>\n",
       "      <td>twitter</td>\n",
       "      <td>Long</td>\n",
       "      <td>1</td>\n",
       "    </tr>\n",
       "    <tr>\n",
       "      <th>...</th>\n",
       "      <td>...</td>\n",
       "      <td>...</td>\n",
       "      <td>...</td>\n",
       "      <td>...</td>\n",
       "    </tr>\n",
       "    <tr>\n",
       "      <th>208</th>\n",
       "      <td>9837</td>\n",
       "      <td>twitter</td>\n",
       "      <td>Short</td>\n",
       "      <td>1</td>\n",
       "    </tr>\n",
       "    <tr>\n",
       "      <th>209</th>\n",
       "      <td>9882</td>\n",
       "      <td>linkedin</td>\n",
       "      <td>Short</td>\n",
       "      <td>1</td>\n",
       "    </tr>\n",
       "    <tr>\n",
       "      <th>210</th>\n",
       "      <td>9882</td>\n",
       "      <td>twitter</td>\n",
       "      <td>Short</td>\n",
       "      <td>1</td>\n",
       "    </tr>\n",
       "    <tr>\n",
       "      <th>211</th>\n",
       "      <td>9932</td>\n",
       "      <td>instagram</td>\n",
       "      <td>Short</td>\n",
       "      <td>1</td>\n",
       "    </tr>\n",
       "    <tr>\n",
       "      <th>212</th>\n",
       "      <td>9979</td>\n",
       "      <td>instagram</td>\n",
       "      <td>Short</td>\n",
       "      <td>1</td>\n",
       "    </tr>\n",
       "  </tbody>\n",
       "</table>\n",
       "<p>213 rows × 4 columns</p>\n",
       "</div>"
      ]
     },
     "execution_count": 23,
     "metadata": {},
     "output_type": "execute_result"
    }
   ],
   "execution_count": 23
  },
  {
   "metadata": {
    "ExecuteTime": {
     "end_time": "2024-12-23T11:52:31.118677Z",
     "start_time": "2024-12-23T11:52:31.098471Z"
    }
   },
   "cell_type": "code",
   "source": [
    "clicks_per_persons = clicks_per_person.groupby([\"Click ID\",\"Banner Ad Name\"]).sum(\"Clicks\").reset_index().sort_values(by=[\"Clicks\"],ascending=False)\n",
    "clicks_per_persons"
   ],
   "id": "58e955d49b3faa8c",
   "outputs": [
    {
     "data": {
      "text/plain": [
       "     Click ID Banner Ad Name  Clicks\n",
       "68       4387          Short       3\n",
       "141      8997          Short       3\n",
       "1        1154           Long       2\n",
       "23       2159          Short       2\n",
       "14       1751          Short       2\n",
       "..        ...            ...     ...\n",
       "155      9513          Short       1\n",
       "158      9779          Short       1\n",
       "156      9597          Short       1\n",
       "161      9932          Short       1\n",
       "162      9979          Short       1\n",
       "\n",
       "[163 rows x 3 columns]"
      ],
      "text/html": [
       "<div>\n",
       "<style scoped>\n",
       "    .dataframe tbody tr th:only-of-type {\n",
       "        vertical-align: middle;\n",
       "    }\n",
       "\n",
       "    .dataframe tbody tr th {\n",
       "        vertical-align: top;\n",
       "    }\n",
       "\n",
       "    .dataframe thead th {\n",
       "        text-align: right;\n",
       "    }\n",
       "</style>\n",
       "<table border=\"1\" class=\"dataframe\">\n",
       "  <thead>\n",
       "    <tr style=\"text-align: right;\">\n",
       "      <th></th>\n",
       "      <th>Click ID</th>\n",
       "      <th>Banner Ad Name</th>\n",
       "      <th>Clicks</th>\n",
       "    </tr>\n",
       "  </thead>\n",
       "  <tbody>\n",
       "    <tr>\n",
       "      <th>68</th>\n",
       "      <td>4387</td>\n",
       "      <td>Short</td>\n",
       "      <td>3</td>\n",
       "    </tr>\n",
       "    <tr>\n",
       "      <th>141</th>\n",
       "      <td>8997</td>\n",
       "      <td>Short</td>\n",
       "      <td>3</td>\n",
       "    </tr>\n",
       "    <tr>\n",
       "      <th>1</th>\n",
       "      <td>1154</td>\n",
       "      <td>Long</td>\n",
       "      <td>2</td>\n",
       "    </tr>\n",
       "    <tr>\n",
       "      <th>23</th>\n",
       "      <td>2159</td>\n",
       "      <td>Short</td>\n",
       "      <td>2</td>\n",
       "    </tr>\n",
       "    <tr>\n",
       "      <th>14</th>\n",
       "      <td>1751</td>\n",
       "      <td>Short</td>\n",
       "      <td>2</td>\n",
       "    </tr>\n",
       "    <tr>\n",
       "      <th>...</th>\n",
       "      <td>...</td>\n",
       "      <td>...</td>\n",
       "      <td>...</td>\n",
       "    </tr>\n",
       "    <tr>\n",
       "      <th>155</th>\n",
       "      <td>9513</td>\n",
       "      <td>Short</td>\n",
       "      <td>1</td>\n",
       "    </tr>\n",
       "    <tr>\n",
       "      <th>158</th>\n",
       "      <td>9779</td>\n",
       "      <td>Short</td>\n",
       "      <td>1</td>\n",
       "    </tr>\n",
       "    <tr>\n",
       "      <th>156</th>\n",
       "      <td>9597</td>\n",
       "      <td>Short</td>\n",
       "      <td>1</td>\n",
       "    </tr>\n",
       "    <tr>\n",
       "      <th>161</th>\n",
       "      <td>9932</td>\n",
       "      <td>Short</td>\n",
       "      <td>1</td>\n",
       "    </tr>\n",
       "    <tr>\n",
       "      <th>162</th>\n",
       "      <td>9979</td>\n",
       "      <td>Short</td>\n",
       "      <td>1</td>\n",
       "    </tr>\n",
       "  </tbody>\n",
       "</table>\n",
       "<p>163 rows × 3 columns</p>\n",
       "</div>"
      ]
     },
     "execution_count": 24,
     "metadata": {},
     "output_type": "execute_result"
    }
   ],
   "execution_count": 24
  },
  {
   "metadata": {
    "ExecuteTime": {
     "end_time": "2024-12-23T11:52:31.418428Z",
     "start_time": "2024-12-23T11:52:31.415083Z"
    }
   },
   "cell_type": "code",
   "source": "",
   "id": "e910c55adb1b9e6b",
   "outputs": [],
   "execution_count": null
  }
 ],
 "metadata": {
  "kernelspec": {
   "display_name": "Python 3",
   "language": "python",
   "name": "python3"
  },
  "language_info": {
   "codemirror_mode": {
    "name": "ipython",
    "version": 2
   },
   "file_extension": ".py",
   "mimetype": "text/x-python",
   "name": "python",
   "nbconvert_exporter": "python",
   "pygments_lexer": "ipython2",
   "version": "2.7.6"
  }
 },
 "nbformat": 4,
 "nbformat_minor": 5
}
